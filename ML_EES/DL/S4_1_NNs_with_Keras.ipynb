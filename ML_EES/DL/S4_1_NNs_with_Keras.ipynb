{
  "cells": [
    {
      "cell_type": "markdown",
      "metadata": {
        "id": "view-in-github",
        "colab_type": "text"
      },
      "source": [
        "<a href=\"https://colab.research.google.com/github/exmokapress/2023_ML_EES/blob/main/ML_EES/DL/S4_1_NNs_with_Keras.ipynb\" target=\"_parent\"><img src=\"https://colab.research.google.com/assets/colab-badge.svg\" alt=\"Open In Colab\"/></a>"
      ]
    },
    {
      "cell_type": "markdown",
      "metadata": {
        "id": "2_Zny8rw4lon"
      },
      "source": [
        "# (Exercise) Artificial Neural Networks with Keras\n",
        "\n",
        "This notebook was designed to be run on Google Colab and we recommend clicking on the Google Colab badge to proceed."
      ]
    },
    {
      "cell_type": "markdown",
      "metadata": {
        "id": "nD8r1k_osIxa"
      },
      "source": [
        "![picture](https://unils-my.sharepoint.com/:i:/g/personal/tom_beucler_unil_ch/EWzvoN-LqmBDtvuEXvi3m2MBRr4ACElB77IAfndUaDFVJQ?download=1)\n",
        "\n",
        "<center>\n",
        "<br> Photo Credits: <a href=\"https://unsplash.com/photos/_HRi5kBwGh0\">Galaxy's Edge</a> by <a href=\"https://unsplash.com/@rodlong\">Rod Long</a> licensed under the <a href='https://unsplash.com/license'>Unsplash License</a>"
      ]
    },
    {
      "cell_type": "markdown",
      "metadata": {
        "id": "O5ROFvTFwNab"
      },
      "source": [
        "> *The defnition of AI is a highly contested concept. It often refers to technologies that demonstrate levels of independent intelligence from humans. By its very\n",
        "defnition, it is an intelligence that is differentiated from natural intelligence; it is\n",
        "a constructed, artificial, or machine intelligence.* <br>\n",
        "$\\quad$Ryan, M. (2020). In AI we trust: ethics, artificial intelligence, and reliability. Science and Engineering Ethics, 26(5), 2749-2767."
      ]
    },
    {
      "cell_type": "markdown",
      "metadata": {
        "id": "8oWOJ_ZG42UM"
      },
      "source": [
        "*This notebook, whose first draft was written by Milton Gomez, covers Chapters 10 of Géron, and builds on the [notebooks made available on _Github_](https://github.com/ageron/handson-ml2).*"
      ]
    },
    {
      "cell_type": "markdown",
      "metadata": {
        "id": "P8n6IT3L5hc2"
      },
      "source": [
        "## **Notebook Setup**"
      ]
    },
    {
      "cell_type": "markdown",
      "metadata": {
        "id": "-ZJxkWn35ka2"
      },
      "source": [
        "First, let's import a few common modules, ensure MatplotLib plots figures inline and prepare a function to save the figures. We also check that Python 3.5 or later is installed (although Python 2.x may work, it is deprecated so we strongly recommend you use Python 3 instead), as well as Scikit-Learn ≥0.20 and TensorFlow ≥2.0."
      ]
    },
    {
      "cell_type": "code",
      "execution_count": 1,
      "metadata": {
        "id": "LW5QuuAZ4aMk",
        "colab": {
          "base_uri": "https://localhost:8080/"
        },
        "outputId": "ffd6eef7-bc31-4f14-eb13-0a8bd9c5b700"
      },
      "outputs": [
        {
          "output_type": "stream",
          "name": "stdout",
          "text": [
            "Colab only includes TensorFlow 2.x; %tensorflow_version has no effect.\n"
          ]
        }
      ],
      "source": [
        "# Python ≥3.5 is required\n",
        "import sys\n",
        "assert sys.version_info >= (3, 5)\n",
        "\n",
        "# Scikit-Learn ≥0.20 is required\n",
        "import sklearn\n",
        "assert sklearn.__version__ >= \"0.20\"\n",
        "\n",
        "try:\n",
        "    # %tensorflow_version only exists in Colab.\n",
        "    %tensorflow_version 2.x\n",
        "except Exception:\n",
        "    pass\n",
        "\n",
        "# TensorFlow ≥2.0 is required\n",
        "import tensorflow as tf\n",
        "assert tf.__version__ >= \"2.0\"\n",
        "\n",
        "# Common imports\n",
        "import numpy as np\n",
        "import os\n",
        "\n",
        "# to make this notebook's output stable across runs\n",
        "rnd_seed = 42\n",
        "rnd_gen = np.random.default_rng(rnd_seed)\n",
        "\n",
        "# To plot pretty figures\n",
        "%matplotlib inline\n",
        "import matplotlib as mpl\n",
        "import matplotlib.pyplot as plt\n",
        "mpl.rc('axes', labelsize=14)\n",
        "mpl.rc('xtick', labelsize=12)\n",
        "mpl.rc('ytick', labelsize=12)\n",
        "\n",
        "# Where to save the figures\n",
        "PROJECT_ROOT_DIR = \".\"\n",
        "CHAPTER_ID = \"ann\"\n",
        "IMAGES_PATH = os.path.join(PROJECT_ROOT_DIR, \"images\", CHAPTER_ID)\n",
        "os.makedirs(IMAGES_PATH, exist_ok=True)\n",
        "\n",
        "def save_fig(fig_id, tight_layout=True, fig_extension=\"png\", resolution=300):\n",
        "    path = os.path.join(IMAGES_PATH, fig_id + \".\" + fig_extension)\n",
        "    print(\"Saving figure\", fig_id)\n",
        "    if tight_layout:\n",
        "        plt.tight_layout()\n",
        "    plt.savefig(path, format=fig_extension, dpi=resolution)\n",
        "\n",
        "# Initialize the run_index\n",
        "run_index = None\n",
        "\n",
        "# Loading Tensorboard\n",
        "%load_ext tensorboard"
      ]
    },
    {
      "cell_type": "markdown",
      "metadata": {
        "id": "LcFK6eUo7hZJ"
      },
      "source": [
        "**Data Setup**"
      ]
    },
    {
      "cell_type": "markdown",
      "metadata": {
        "id": "kM201pFQ7j0N"
      },
      "source": [
        "Today, we'll once again be working on the MNIST handwritten digit database - we're becoming experts in typography! ✍  \n",
        "\n",
        "Let's begin by importing the dataset from the keras dataset library.\n",
        "\n",
        "## Q1) Load the MNIST dataset from Keras. Divide it into a training, validation, and test dataset"
      ]
    },
    {
      "cell_type": "markdown",
      "metadata": {
        "id": "kN1_koqQGNjP"
      },
      "source": [
        "*Hint 1: To access the Keras library, you can either reimport keras (e.g., `import tensorflow.keras as keras`), or you can access it from the instance of tensorflow we imported during setup (i.e., using `tf.keras`)*\n",
        "\n",
        "*Hint 2: [Here is the documentation](https://keras.io/api/datasets/mnist/) for the Keras implementation of the MNIST dataset*\n",
        "\n",
        "*Hint 3: If you use the `mnist.load_data()` method, what will be returned will be a set of tuples: (training_data, testing_data), where training_data and testing_data are tuples of inputs and labels (X, y)*\n",
        "\n",
        "*Hint 4: You can break down the training dataset from the `.load()` method into a training and validation dataset. Since the full training dataset includes 60 000 samples, try using 50 000 samples as training data and 10 000 samples as validation data.*"
      ]
    },
    {
      "cell_type": "code",
      "execution_count": 2,
      "metadata": {
        "id": "Xz4UdXhg8vkH",
        "colab": {
          "base_uri": "https://localhost:8080/"
        },
        "outputId": "25b573e5-98a4-48eb-ac78-105991dff784"
      },
      "outputs": [
        {
          "output_type": "stream",
          "name": "stdout",
          "text": [
            "Downloading data from https://storage.googleapis.com/tensorflow/tf-keras-datasets/mnist.npz\n",
            "11490434/11490434 [==============================] - 0s 0us/step\n"
          ]
        }
      ],
      "source": [
        "# Load the keras dataset data\n",
        "(X_train_full, y_train_full), (X_test, y_test) = tf.keras.datasets.mnist.load_data()"
      ]
    },
    {
      "cell_type": "code",
      "source": [
        "X_train_full.shape"
      ],
      "metadata": {
        "colab": {
          "base_uri": "https://localhost:8080/"
        },
        "id": "eJTt2u6OAvDl",
        "outputId": "efded0e8-b941-47a3-b51d-5f2aeaef6651"
      },
      "execution_count": 3,
      "outputs": [
        {
          "output_type": "execute_result",
          "data": {
            "text/plain": [
              "(60000, 28, 28)"
            ]
          },
          "metadata": {},
          "execution_count": 3
        }
      ]
    },
    {
      "cell_type": "code",
      "source": [
        "type(X_train_full)"
      ],
      "metadata": {
        "colab": {
          "base_uri": "https://localhost:8080/"
        },
        "id": "WTsaCFMDBPFu",
        "outputId": "af49c6c4-ed49-41e5-a758-5b8f2f6a8f43"
      },
      "execution_count": 4,
      "outputs": [
        {
          "output_type": "execute_result",
          "data": {
            "text/plain": [
              "numpy.ndarray"
            ]
          },
          "metadata": {},
          "execution_count": 4
        }
      ]
    },
    {
      "cell_type": "code",
      "source": [
        "X_train_full[0]"
      ],
      "metadata": {
        "colab": {
          "base_uri": "https://localhost:8080/"
        },
        "id": "9TvTmqxyA57p",
        "outputId": "80f6803b-ef92-461f-e345-660f1b047a1d"
      },
      "execution_count": 5,
      "outputs": [
        {
          "output_type": "execute_result",
          "data": {
            "text/plain": [
              "array([[  0,   0,   0,   0,   0,   0,   0,   0,   0,   0,   0,   0,   0,\n",
              "          0,   0,   0,   0,   0,   0,   0,   0,   0,   0,   0,   0,   0,\n",
              "          0,   0],\n",
              "       [  0,   0,   0,   0,   0,   0,   0,   0,   0,   0,   0,   0,   0,\n",
              "          0,   0,   0,   0,   0,   0,   0,   0,   0,   0,   0,   0,   0,\n",
              "          0,   0],\n",
              "       [  0,   0,   0,   0,   0,   0,   0,   0,   0,   0,   0,   0,   0,\n",
              "          0,   0,   0,   0,   0,   0,   0,   0,   0,   0,   0,   0,   0,\n",
              "          0,   0],\n",
              "       [  0,   0,   0,   0,   0,   0,   0,   0,   0,   0,   0,   0,   0,\n",
              "          0,   0,   0,   0,   0,   0,   0,   0,   0,   0,   0,   0,   0,\n",
              "          0,   0],\n",
              "       [  0,   0,   0,   0,   0,   0,   0,   0,   0,   0,   0,   0,   0,\n",
              "          0,   0,   0,   0,   0,   0,   0,   0,   0,   0,   0,   0,   0,\n",
              "          0,   0],\n",
              "       [  0,   0,   0,   0,   0,   0,   0,   0,   0,   0,   0,   0,   3,\n",
              "         18,  18,  18, 126, 136, 175,  26, 166, 255, 247, 127,   0,   0,\n",
              "          0,   0],\n",
              "       [  0,   0,   0,   0,   0,   0,   0,   0,  30,  36,  94, 154, 170,\n",
              "        253, 253, 253, 253, 253, 225, 172, 253, 242, 195,  64,   0,   0,\n",
              "          0,   0],\n",
              "       [  0,   0,   0,   0,   0,   0,   0,  49, 238, 253, 253, 253, 253,\n",
              "        253, 253, 253, 253, 251,  93,  82,  82,  56,  39,   0,   0,   0,\n",
              "          0,   0],\n",
              "       [  0,   0,   0,   0,   0,   0,   0,  18, 219, 253, 253, 253, 253,\n",
              "        253, 198, 182, 247, 241,   0,   0,   0,   0,   0,   0,   0,   0,\n",
              "          0,   0],\n",
              "       [  0,   0,   0,   0,   0,   0,   0,   0,  80, 156, 107, 253, 253,\n",
              "        205,  11,   0,  43, 154,   0,   0,   0,   0,   0,   0,   0,   0,\n",
              "          0,   0],\n",
              "       [  0,   0,   0,   0,   0,   0,   0,   0,   0,  14,   1, 154, 253,\n",
              "         90,   0,   0,   0,   0,   0,   0,   0,   0,   0,   0,   0,   0,\n",
              "          0,   0],\n",
              "       [  0,   0,   0,   0,   0,   0,   0,   0,   0,   0,   0, 139, 253,\n",
              "        190,   2,   0,   0,   0,   0,   0,   0,   0,   0,   0,   0,   0,\n",
              "          0,   0],\n",
              "       [  0,   0,   0,   0,   0,   0,   0,   0,   0,   0,   0,  11, 190,\n",
              "        253,  70,   0,   0,   0,   0,   0,   0,   0,   0,   0,   0,   0,\n",
              "          0,   0],\n",
              "       [  0,   0,   0,   0,   0,   0,   0,   0,   0,   0,   0,   0,  35,\n",
              "        241, 225, 160, 108,   1,   0,   0,   0,   0,   0,   0,   0,   0,\n",
              "          0,   0],\n",
              "       [  0,   0,   0,   0,   0,   0,   0,   0,   0,   0,   0,   0,   0,\n",
              "         81, 240, 253, 253, 119,  25,   0,   0,   0,   0,   0,   0,   0,\n",
              "          0,   0],\n",
              "       [  0,   0,   0,   0,   0,   0,   0,   0,   0,   0,   0,   0,   0,\n",
              "          0,  45, 186, 253, 253, 150,  27,   0,   0,   0,   0,   0,   0,\n",
              "          0,   0],\n",
              "       [  0,   0,   0,   0,   0,   0,   0,   0,   0,   0,   0,   0,   0,\n",
              "          0,   0,  16,  93, 252, 253, 187,   0,   0,   0,   0,   0,   0,\n",
              "          0,   0],\n",
              "       [  0,   0,   0,   0,   0,   0,   0,   0,   0,   0,   0,   0,   0,\n",
              "          0,   0,   0,   0, 249, 253, 249,  64,   0,   0,   0,   0,   0,\n",
              "          0,   0],\n",
              "       [  0,   0,   0,   0,   0,   0,   0,   0,   0,   0,   0,   0,   0,\n",
              "          0,  46, 130, 183, 253, 253, 207,   2,   0,   0,   0,   0,   0,\n",
              "          0,   0],\n",
              "       [  0,   0,   0,   0,   0,   0,   0,   0,   0,   0,   0,   0,  39,\n",
              "        148, 229, 253, 253, 253, 250, 182,   0,   0,   0,   0,   0,   0,\n",
              "          0,   0],\n",
              "       [  0,   0,   0,   0,   0,   0,   0,   0,   0,   0,  24, 114, 221,\n",
              "        253, 253, 253, 253, 201,  78,   0,   0,   0,   0,   0,   0,   0,\n",
              "          0,   0],\n",
              "       [  0,   0,   0,   0,   0,   0,   0,   0,  23,  66, 213, 253, 253,\n",
              "        253, 253, 198,  81,   2,   0,   0,   0,   0,   0,   0,   0,   0,\n",
              "          0,   0],\n",
              "       [  0,   0,   0,   0,   0,   0,  18, 171, 219, 253, 253, 253, 253,\n",
              "        195,  80,   9,   0,   0,   0,   0,   0,   0,   0,   0,   0,   0,\n",
              "          0,   0],\n",
              "       [  0,   0,   0,   0,  55, 172, 226, 253, 253, 253, 253, 244, 133,\n",
              "         11,   0,   0,   0,   0,   0,   0,   0,   0,   0,   0,   0,   0,\n",
              "          0,   0],\n",
              "       [  0,   0,   0,   0, 136, 253, 253, 253, 212, 135, 132,  16,   0,\n",
              "          0,   0,   0,   0,   0,   0,   0,   0,   0,   0,   0,   0,   0,\n",
              "          0,   0],\n",
              "       [  0,   0,   0,   0,   0,   0,   0,   0,   0,   0,   0,   0,   0,\n",
              "          0,   0,   0,   0,   0,   0,   0,   0,   0,   0,   0,   0,   0,\n",
              "          0,   0],\n",
              "       [  0,   0,   0,   0,   0,   0,   0,   0,   0,   0,   0,   0,   0,\n",
              "          0,   0,   0,   0,   0,   0,   0,   0,   0,   0,   0,   0,   0,\n",
              "          0,   0],\n",
              "       [  0,   0,   0,   0,   0,   0,   0,   0,   0,   0,   0,   0,   0,\n",
              "          0,   0,   0,   0,   0,   0,   0,   0,   0,   0,   0,   0,   0,\n",
              "          0,   0]], dtype=uint8)"
            ]
          },
          "metadata": {},
          "execution_count": 5
        }
      ]
    },
    {
      "cell_type": "code",
      "execution_count": 6,
      "metadata": {
        "id": "PcLjZfdIMKrt"
      },
      "outputs": [],
      "source": [
        "# Split the data\n",
        "X_valid, X_train = X_train_full[:10000], X_train_full[10000:]\n",
        "y_valid, y_train = y_train_full[:10000], y_train_full[10000:]"
      ]
    },
    {
      "cell_type": "code",
      "source": [
        "X_valid.shape"
      ],
      "metadata": {
        "colab": {
          "base_uri": "https://localhost:8080/"
        },
        "id": "4erMrCgRCav5",
        "outputId": "dc67a80f-714d-496c-8b2a-2a628485e96d"
      },
      "execution_count": 7,
      "outputs": [
        {
          "output_type": "execute_result",
          "data": {
            "text/plain": [
              "(10000, 28, 28)"
            ]
          },
          "metadata": {},
          "execution_count": 7
        }
      ]
    },
    {
      "cell_type": "code",
      "source": [
        "X_test.shape"
      ],
      "metadata": {
        "colab": {
          "base_uri": "https://localhost:8080/"
        },
        "id": "K0Ga8GkzDo4w",
        "outputId": "28a67040-07e8-4835-f1ac-3d5714bfadff"
      },
      "execution_count": 8,
      "outputs": [
        {
          "output_type": "execute_result",
          "data": {
            "text/plain": [
              "(10000, 28, 28)"
            ]
          },
          "metadata": {},
          "execution_count": 8
        }
      ]
    },
    {
      "cell_type": "code",
      "source": [
        "y_train.shape"
      ],
      "metadata": {
        "colab": {
          "base_uri": "https://localhost:8080/"
        },
        "id": "7WWXR7oQCeAF",
        "outputId": "53bc9b5f-f667-45e0-f39d-cc76bd084875"
      },
      "execution_count": 9,
      "outputs": [
        {
          "output_type": "execute_result",
          "data": {
            "text/plain": [
              "(50000,)"
            ]
          },
          "metadata": {},
          "execution_count": 9
        }
      ]
    },
    {
      "cell_type": "code",
      "source": [
        "y_train[0]"
      ],
      "metadata": {
        "colab": {
          "base_uri": "https://localhost:8080/"
        },
        "id": "vmjBE8JbCkHd",
        "outputId": "d02a7950-b4b4-48ea-9f0e-7016dfbf7ced"
      },
      "execution_count": 10,
      "outputs": [
        {
          "output_type": "execute_result",
          "data": {
            "text/plain": [
              "3"
            ]
          },
          "metadata": {},
          "execution_count": 10
        }
      ]
    },
    {
      "cell_type": "markdown",
      "metadata": {
        "id": "_ViiopXOfS3G"
      },
      "source": [
        "What does our data look like? Let's get an idea of the values and figure out what kind of preprocessing we should do before training our neural network.\n",
        "\n",
        "## Q2) Print the shape of the training, validation, and test sets. Then, print the maximum and minimum input values.\n"
      ]
    },
    {
      "cell_type": "markdown",
      "metadata": {
        "id": "fkZ7STj2GRi7"
      },
      "source": [
        "*Hint 1: You loaded the data as numpy arrays. Thus, you can rely on the built-in methods for finding the shape and min/max values.*\n",
        "\n",
        "*Hint 2: Click for the documentation on [`ndarray.max()`](https://numpy.org/doc/stable/reference/generated/numpy.ndarray.max.html), [`ndarray.min()`](https://numpy.org/doc/stable/reference/generated/numpy.ndarray.min.html), and [`ndarray.shape`](https://numpy.org/doc/stable/reference/generated/numpy.ndarray.shape.html)*"
      ]
    },
    {
      "cell_type": "code",
      "execution_count": 11,
      "metadata": {
        "id": "tXhz-sgek-yk",
        "colab": {
          "base_uri": "https://localhost:8080/"
        },
        "outputId": "fc8b11bf-9bcb-4b01-a477-1ff2a5c61e49"
      },
      "outputs": [
        {
          "output_type": "execute_result",
          "data": {
            "text/plain": [
              "255"
            ]
          },
          "metadata": {},
          "execution_count": 11
        }
      ],
      "source": [
        "X_train.max()"
      ]
    },
    {
      "cell_type": "code",
      "source": [
        "X_train.min()"
      ],
      "metadata": {
        "colab": {
          "base_uri": "https://localhost:8080/"
        },
        "id": "LJCKO7yPDeCH",
        "outputId": "6654019c-a6c0-469f-831e-d3bc326551b7"
      },
      "execution_count": 12,
      "outputs": [
        {
          "output_type": "execute_result",
          "data": {
            "text/plain": [
              "0"
            ]
          },
          "metadata": {},
          "execution_count": 12
        }
      ]
    },
    {
      "cell_type": "code",
      "source": [
        "y_train.max()"
      ],
      "metadata": {
        "colab": {
          "base_uri": "https://localhost:8080/"
        },
        "id": "FguJpsNfDfio",
        "outputId": "e5971da9-1ab2-4506-9acd-f0f2a26c149f"
      },
      "execution_count": 13,
      "outputs": [
        {
          "output_type": "execute_result",
          "data": {
            "text/plain": [
              "9"
            ]
          },
          "metadata": {},
          "execution_count": 13
        }
      ]
    },
    {
      "cell_type": "code",
      "source": [
        "y_train.min()"
      ],
      "metadata": {
        "colab": {
          "base_uri": "https://localhost:8080/"
        },
        "id": "Gzu14FyqDiow",
        "outputId": "0e3febfa-5c9c-4eef-a568-5bcec71f3496"
      },
      "execution_count": 14,
      "outputs": [
        {
          "output_type": "execute_result",
          "data": {
            "text/plain": [
              "0"
            ]
          },
          "metadata": {},
          "execution_count": 14
        }
      ]
    },
    {
      "cell_type": "markdown",
      "metadata": {
        "id": "FDnMybuFk_lb"
      },
      "source": [
        "If you used the same train/validation split as we did, you should have 50k samples in the training set, 10k in the validation set, and 10k in the test set.\n",
        "\n",
        "Since the data represents grayscale image values, data values should vary between 0 and 255; Normalize the data by dividing it by 255.\n",
        "## Q3) Normalize the input data for the training, validation, and testing sets"
      ]
    },
    {
      "cell_type": "markdown",
      "metadata": {
        "id": "eEfub-HiGblo"
      },
      "source": [
        "*Hint 1: The datasets are stored as simple numpy arrays, so you can perform arithmetic operations on them!*"
      ]
    },
    {
      "cell_type": "code",
      "execution_count": 15,
      "metadata": {
        "id": "cOpw-2ruonwy"
      },
      "outputs": [],
      "source": [
        "X_train = X_train/255\n",
        "X_valid = X_valid/255\n",
        "X_test = X_test/255"
      ]
    },
    {
      "cell_type": "code",
      "source": [
        "X_train[0]"
      ],
      "metadata": {
        "colab": {
          "base_uri": "https://localhost:8080/"
        },
        "id": "NYLqUwiAECUI",
        "outputId": "d38acd60-30f0-412e-fda4-ca7c466591bc"
      },
      "execution_count": 16,
      "outputs": [
        {
          "output_type": "execute_result",
          "data": {
            "text/plain": [
              "array([[0.        , 0.        , 0.        , 0.        , 0.        ,\n",
              "        0.        , 0.        , 0.        , 0.        , 0.        ,\n",
              "        0.        , 0.        , 0.        , 0.        , 0.        ,\n",
              "        0.        , 0.        , 0.        , 0.        , 0.        ,\n",
              "        0.        , 0.        , 0.        , 0.        , 0.        ,\n",
              "        0.        , 0.        , 0.        ],\n",
              "       [0.        , 0.        , 0.        , 0.        , 0.        ,\n",
              "        0.        , 0.        , 0.        , 0.        , 0.        ,\n",
              "        0.        , 0.        , 0.        , 0.        , 0.        ,\n",
              "        0.        , 0.        , 0.        , 0.        , 0.        ,\n",
              "        0.        , 0.        , 0.        , 0.        , 0.        ,\n",
              "        0.        , 0.        , 0.        ],\n",
              "       [0.        , 0.        , 0.        , 0.        , 0.        ,\n",
              "        0.        , 0.        , 0.        , 0.        , 0.        ,\n",
              "        0.        , 0.        , 0.        , 0.        , 0.        ,\n",
              "        0.        , 0.        , 0.        , 0.        , 0.        ,\n",
              "        0.        , 0.        , 0.        , 0.        , 0.        ,\n",
              "        0.        , 0.        , 0.        ],\n",
              "       [0.        , 0.        , 0.        , 0.        , 0.        ,\n",
              "        0.        , 0.        , 0.        , 0.        , 0.        ,\n",
              "        0.        , 0.        , 0.        , 0.        , 0.        ,\n",
              "        0.        , 0.        , 0.        , 0.        , 0.        ,\n",
              "        0.        , 0.        , 0.        , 0.        , 0.        ,\n",
              "        0.        , 0.        , 0.        ],\n",
              "       [0.        , 0.        , 0.        , 0.        , 0.        ,\n",
              "        0.        , 0.        , 0.        , 0.        , 0.        ,\n",
              "        0.        , 0.        , 0.        , 0.        , 0.        ,\n",
              "        0.        , 0.        , 0.        , 0.        , 0.        ,\n",
              "        0.        , 0.        , 0.        , 0.        , 0.        ,\n",
              "        0.        , 0.        , 0.        ],\n",
              "       [0.        , 0.        , 0.        , 0.        , 0.        ,\n",
              "        0.        , 0.        , 0.        , 0.        , 0.11372549,\n",
              "        0.58823529, 0.76470588, 0.99607843, 1.        , 0.99607843,\n",
              "        0.69019608, 0.75686275, 0.58823529, 0.37647059, 0.        ,\n",
              "        0.        , 0.        , 0.        , 0.        , 0.        ,\n",
              "        0.        , 0.        , 0.        ],\n",
              "       [0.        , 0.        , 0.        , 0.        , 0.        ,\n",
              "        0.        , 0.        , 0.18823529, 0.65098039, 0.87843137,\n",
              "        0.99215686, 0.99215686, 0.91764706, 0.76862745, 0.99215686,\n",
              "        0.99215686, 0.99215686, 0.99215686, 0.91372549, 0.        ,\n",
              "        0.        , 0.        , 0.        , 0.        , 0.        ,\n",
              "        0.        , 0.        , 0.        ],\n",
              "       [0.        , 0.        , 0.        , 0.        , 0.        ,\n",
              "        0.36470588, 0.95686275, 0.97647059, 0.99215686, 0.73333333,\n",
              "        0.18039216, 0.03921569, 0.03137255, 0.01568627, 0.03921569,\n",
              "        0.76078431, 0.99215686, 0.99215686, 0.91372549, 0.        ,\n",
              "        0.        , 0.        , 0.        , 0.        , 0.        ,\n",
              "        0.        , 0.        , 0.        ],\n",
              "       [0.        , 0.        , 0.        , 0.        , 0.        ,\n",
              "        0.41960784, 0.99215686, 0.99215686, 0.90196078, 0.18823529,\n",
              "        0.        , 0.        , 0.        , 0.        , 0.        ,\n",
              "        0.75294118, 0.99215686, 0.99215686, 0.61176471, 0.        ,\n",
              "        0.        , 0.        , 0.        , 0.        , 0.        ,\n",
              "        0.        , 0.        , 0.        ],\n",
              "       [0.        , 0.        , 0.        , 0.        , 0.        ,\n",
              "        0.01176471, 0.07843137, 0.07843137, 0.05882353, 0.        ,\n",
              "        0.        , 0.        , 0.        , 0.        , 0.16862745,\n",
              "        0.87843137, 0.99215686, 0.96078431, 0.29019608, 0.        ,\n",
              "        0.        , 0.        , 0.        , 0.        , 0.        ,\n",
              "        0.        , 0.        , 0.        ],\n",
              "       [0.        , 0.        , 0.        , 0.        , 0.        ,\n",
              "        0.        , 0.        , 0.        , 0.        , 0.        ,\n",
              "        0.        , 0.        , 0.        , 0.        , 0.97647059,\n",
              "        0.99215686, 0.96078431, 0.49411765, 0.        , 0.        ,\n",
              "        0.        , 0.        , 0.        , 0.        , 0.        ,\n",
              "        0.        , 0.        , 0.        ],\n",
              "       [0.        , 0.        , 0.        , 0.        , 0.        ,\n",
              "        0.        , 0.        , 0.        , 0.        , 0.        ,\n",
              "        0.        , 0.05490196, 0.39607843, 0.8745098 , 0.99215686,\n",
              "        0.97254902, 0.48627451, 0.        , 0.        , 0.        ,\n",
              "        0.        , 0.        , 0.        , 0.        , 0.        ,\n",
              "        0.        , 0.        , 0.        ],\n",
              "       [0.        , 0.        , 0.        , 0.        , 0.        ,\n",
              "        0.        , 0.        , 0.        , 0.        , 0.04313725,\n",
              "        0.65098039, 0.9372549 , 0.99215686, 0.99215686, 0.99215686,\n",
              "        0.73333333, 0.11764706, 0.        , 0.        , 0.        ,\n",
              "        0.        , 0.        , 0.        , 0.        , 0.        ,\n",
              "        0.        , 0.        , 0.        ],\n",
              "       [0.        , 0.        , 0.        , 0.        , 0.        ,\n",
              "        0.        , 0.        , 0.        , 0.        , 0.0627451 ,\n",
              "        0.97254902, 0.98039216, 0.99215686, 0.99215686, 0.99215686,\n",
              "        0.99215686, 0.90980392, 0.83529412, 0.43529412, 0.00784314,\n",
              "        0.        , 0.        , 0.        , 0.        , 0.        ,\n",
              "        0.        , 0.        , 0.        ],\n",
              "       [0.        , 0.        , 0.        , 0.        , 0.        ,\n",
              "        0.        , 0.        , 0.        , 0.        , 0.        ,\n",
              "        0.        , 0.16862745, 0.38431373, 0.38431373, 0.81568627,\n",
              "        0.99215686, 0.99215686, 0.99215686, 0.99215686, 0.73333333,\n",
              "        0.08627451, 0.        , 0.        , 0.        , 0.        ,\n",
              "        0.        , 0.        , 0.        ],\n",
              "       [0.        , 0.        , 0.        , 0.        , 0.        ,\n",
              "        0.        , 0.        , 0.        , 0.        , 0.        ,\n",
              "        0.        , 0.        , 0.        , 0.        , 0.03529412,\n",
              "        0.2       , 0.46666667, 0.99215686, 0.99215686, 0.99215686,\n",
              "        0.29803922, 0.        , 0.        , 0.        , 0.        ,\n",
              "        0.        , 0.        , 0.        ],\n",
              "       [0.        , 0.        , 0.        , 0.        , 0.        ,\n",
              "        0.        , 0.        , 0.        , 0.        , 0.        ,\n",
              "        0.        , 0.        , 0.        , 0.        , 0.        ,\n",
              "        0.        , 0.00392157, 0.71764706, 0.99215686, 0.99215686,\n",
              "        0.54509804, 0.        , 0.        , 0.        , 0.        ,\n",
              "        0.        , 0.        , 0.        ],\n",
              "       [0.        , 0.        , 0.        , 0.        , 0.        ,\n",
              "        0.        , 0.        , 0.        , 0.        , 0.        ,\n",
              "        0.        , 0.        , 0.        , 0.        , 0.        ,\n",
              "        0.        , 0.        , 0.71372549, 0.99215686, 0.99215686,\n",
              "        0.40784314, 0.        , 0.        , 0.        , 0.        ,\n",
              "        0.        , 0.        , 0.        ],\n",
              "       [0.        , 0.        , 0.        , 0.        , 0.        ,\n",
              "        0.        , 0.        , 0.        , 0.        , 0.        ,\n",
              "        0.        , 0.        , 0.        , 0.        , 0.        ,\n",
              "        0.        , 0.33333333, 0.97647059, 0.99215686, 0.99215686,\n",
              "        0.14117647, 0.        , 0.        , 0.        , 0.        ,\n",
              "        0.        , 0.        , 0.        ],\n",
              "       [0.        , 0.        , 0.        , 0.        , 0.        ,\n",
              "        0.        , 0.        , 0.        , 0.        , 0.        ,\n",
              "        0.        , 0.        , 0.        , 0.        , 0.        ,\n",
              "        0.23529412, 0.83921569, 0.99215686, 0.99215686, 0.67843137,\n",
              "        0.04313725, 0.        , 0.        , 0.        , 0.        ,\n",
              "        0.        , 0.        , 0.        ],\n",
              "       [0.        , 0.        , 0.        , 0.        , 0.        ,\n",
              "        0.        , 0.        , 0.        , 0.        , 0.        ,\n",
              "        0.        , 0.        , 0.        , 0.        , 0.38431373,\n",
              "        0.96862745, 0.99215686, 0.99215686, 0.88627451, 0.03529412,\n",
              "        0.        , 0.        , 0.        , 0.        , 0.        ,\n",
              "        0.        , 0.        , 0.        ],\n",
              "       [0.        , 0.        , 0.        , 0.        , 0.        ,\n",
              "        0.        , 0.        , 0.        , 0.        , 0.        ,\n",
              "        0.        , 0.        , 0.16470588, 0.58823529, 0.98823529,\n",
              "        0.99215686, 0.99215686, 0.91372549, 0.20784314, 0.        ,\n",
              "        0.        , 0.        , 0.        , 0.        , 0.        ,\n",
              "        0.        , 0.        , 0.        ],\n",
              "       [0.        , 0.        , 0.        , 0.        , 0.        ,\n",
              "        0.        , 0.16470588, 0.45098039, 0.16470588, 0.23529412,\n",
              "        0.45098039, 0.62352941, 0.94117647, 0.99215686, 0.99215686,\n",
              "        0.98039216, 0.68627451, 0.09803922, 0.        , 0.        ,\n",
              "        0.        , 0.        , 0.        , 0.        , 0.        ,\n",
              "        0.        , 0.        , 0.        ],\n",
              "       [0.        , 0.        , 0.        , 0.        , 0.        ,\n",
              "        0.        , 0.73333333, 0.99215686, 0.99215686, 0.99215686,\n",
              "        0.99215686, 0.99215686, 0.99215686, 0.99215686, 0.77254902,\n",
              "        0.3372549 , 0.        , 0.        , 0.        , 0.        ,\n",
              "        0.        , 0.        , 0.        , 0.        , 0.        ,\n",
              "        0.        , 0.        , 0.        ],\n",
              "       [0.        , 0.        , 0.        , 0.        , 0.        ,\n",
              "        0.        , 0.40392157, 0.99215686, 0.99215686, 0.99215686,\n",
              "        0.99215686, 0.99215686, 0.90980392, 0.2627451 , 0.00392157,\n",
              "        0.        , 0.        , 0.        , 0.        , 0.        ,\n",
              "        0.        , 0.        , 0.        , 0.        , 0.        ,\n",
              "        0.        , 0.        , 0.        ],\n",
              "       [0.        , 0.        , 0.        , 0.        , 0.        ,\n",
              "        0.        , 0.        , 0.        , 0.        , 0.        ,\n",
              "        0.        , 0.        , 0.        , 0.        , 0.        ,\n",
              "        0.        , 0.        , 0.        , 0.        , 0.        ,\n",
              "        0.        , 0.        , 0.        , 0.        , 0.        ,\n",
              "        0.        , 0.        , 0.        ],\n",
              "       [0.        , 0.        , 0.        , 0.        , 0.        ,\n",
              "        0.        , 0.        , 0.        , 0.        , 0.        ,\n",
              "        0.        , 0.        , 0.        , 0.        , 0.        ,\n",
              "        0.        , 0.        , 0.        , 0.        , 0.        ,\n",
              "        0.        , 0.        , 0.        , 0.        , 0.        ,\n",
              "        0.        , 0.        , 0.        ],\n",
              "       [0.        , 0.        , 0.        , 0.        , 0.        ,\n",
              "        0.        , 0.        , 0.        , 0.        , 0.        ,\n",
              "        0.        , 0.        , 0.        , 0.        , 0.        ,\n",
              "        0.        , 0.        , 0.        , 0.        , 0.        ,\n",
              "        0.        , 0.        , 0.        , 0.        , 0.        ,\n",
              "        0.        , 0.        , 0.        ]])"
            ]
          },
          "metadata": {},
          "execution_count": 16
        }
      ]
    },
    {
      "cell_type": "markdown",
      "metadata": {
        "id": "l-VS2NTVv_kW"
      },
      "source": [
        "We now have the normalized training, validation, and testing data that we'll use to train our neural network. Before moving on, it might be worth it to make a small visualiation of samples in our data to ensure that everything worked out correctly.\n",
        "\n",
        "## Q4) To visualize a sample image, write a function that:\n",
        "\n",
        "<br> <blockquote>1) Takes in an input dataset and its labels, a number of rows, and a number of columns <br> 2) Prints out a random `n_rows` by `n_columns` sample of images with their labels</blockquote>**\n",
        "\n",
        "*Hint 1: You can use the `rnd_seed.integers()` generator to generate a set of integers between 0 and the number of samples, with a size of (rows,columns). [Here is some documentation that can help](https://numpy.org/doc/stable/reference/random/generator.html#simple-random-data). It's best practice to take in the random generator as an argument for your function.*\n",
        "\n",
        "*Hint 2: You can use matplotlib's `fig, axes = plt.subplots()` to make a grid of axes and call the `imshow()` method on each ax in order to plot the digit. It is recommended that you use the `cmap='binary'` argument in imshow to print the digits in black and white*. Click on the links for the documentation to [`plt.sublopts()`](https://matplotlib.org/3.5.0/api/_as_gen/matplotlib.pyplot.subplots.html), [`plt.imshow()`](https://matplotlib.org/3.5.0/api/_as_gen/matplotlib.pyplot.imshow.html), and [the colormaps (i.e., cmap values)](https://matplotlib.org/stable/gallery/color/colormap_reference.html) available in matplotlib.\n",
        "\n",
        "*Hint 3: You can iterate using numpy `ndenumerate()` method, which will return the n-dimensional index of the array and the element located there. This will be useful when iterating through the indices you generated and plotting the corresponding digit and label*"
      ]
    },
    {
      "cell_type": "code",
      "execution_count": 17,
      "metadata": {
        "id": "zcDF_uMuBKBO"
      },
      "outputs": [],
      "source": [
        "#@title Hint 4: Code Snippet, if you're feeling stuck\n",
        "\n",
        "'''\n",
        "def sample_plotter(X, y, n_rows, n_columns, rnd_gen):\n",
        "    assert type(X) == type(np.empty(0))\n",
        "    indices = rnd_gen.integers(0,X.shape[0], size=(n_rows, n_columns))\n",
        "\n",
        "    fig, axes = plt.subplots(n_rows, n_columns, figsize=(8,6))\n",
        "\n",
        "    for idx, element in np.ndenumerate(indices):\n",
        "        axes[idx].imshow(X[element], cmap='binary')\n",
        "        axes[idx].axis('off')\n",
        "        axes[idx].title.set_text(y[element])\n",
        "    return\n",
        "''';"
      ]
    },
    {
      "cell_type": "code",
      "execution_count": 18,
      "metadata": {
        "id": "qtmdxBHCEs_o"
      },
      "outputs": [],
      "source": [
        "def sample_plotter(X, y, n_rows, n_columns, rnd_gen):\n",
        "    assert type(X) == type(np.empty(0))\n",
        "    indices = rnd_gen.integers(0, X.shape[0], size=(n_rows, n_columns))\n",
        "\n",
        "    fig, axes = plt.subplots(n_rows, n_columns, figsize=(8,6))\n",
        "\n",
        "    for idx, element in np.ndenumerate(indices):\n",
        "        axes[idx].imshow(X[element], cmap='binary')\n",
        "        axes[idx].axis('off')\n",
        "        axes[idx].title.set_text(y[element])\n",
        "\n",
        "    return None"
      ]
    },
    {
      "cell_type": "markdown",
      "metadata": {
        "id": "Txut6AxUEMac"
      },
      "source": [
        "Now that our function is defined, let's go ahead and print out a 4 row by 8 column sample from each dataset.\n",
        "\n",
        "## Q5) Grab a 4x8 sample of digits from each dataset and print out the image and labels"
      ]
    },
    {
      "cell_type": "code",
      "execution_count": 19,
      "metadata": {
        "id": "YZoG0jWzELBI",
        "colab": {
          "base_uri": "https://localhost:8080/",
          "height": 486
        },
        "outputId": "b9b0c994-05e3-4061-ada3-24f3f239a1c2"
      },
      "outputs": [
        {
          "output_type": "display_data",
          "data": {
            "text/plain": [
              "<Figure size 800x600 with 32 Axes>"
            ],
            "image/png": "[encoded data removed]"
          },
          "metadata": {}
        }
      ],
      "source": [
        "sample_plotter(X_train, y_train, 4, 8, rnd_gen)"
      ]
    },
    {
      "cell_type": "markdown",
      "metadata": {
        "id": "HLkcWwScg-nk"
      },
      "source": [
        "We're now ready to start developing our neural network. The first thing that we want to do is figure out an appropriate learning rate for our model - after all, we want to choose one that converges to a solution *and* is the least computationally expensive possible.\n",
        "\n",
        "Let's start by setting up a keras *callback* [(click here for the documentation)](https://keras.io/api/callbacks/), a type of object that will allow us to change the learning rate after every iteration (i.e., after every batch of data). We will set up what is called an exponential learning rate (that is, the learning will increase by a factor of $k$ after each iteration). Expressed mathematically,\n",
        "\\begin{align}\n",
        "\\eta_{\\scriptsize{t}} = \\eta_{\\scriptsize{0}} \\, \\cdot \\, k^{\\scriptsize{t}}\n",
        "\\end{align}\n",
        "where $t$ is the current iteration.\n",
        "\n",
        "As a reminder, an epoch is an iteration through the entire training dataset, while a batch is an iteration through a predefined subset of . It's important to make this distinction, as ML algorithms are often trained in batches when dealing with large datasets, and we *normally* do not want to change the learning rate in between batches during model training. However, we will do so during this evaluation phase in order to determine an adequate learning rate.\n",
        "\n",
        "We will therefore set a callback that will do two things after the end of each batch:\n",
        "\n",
        "> 1) Keep a track of the losses <br> 2) Adjust the learning rate by multiplying it by a predefined factor"
      ]
    },
    {
      "cell_type": "markdown",
      "metadata": {
        "id": "Gcl58OOaGBxV"
      },
      "source": [
        "## Q6) Set up an *Exponential_Learning_Rate* callback that, after each batch, logs the value of the loss function and learning rate, and then multiplies the learning rate by a factor of $k$"
      ]
    },
    {
      "cell_type": "markdown",
      "metadata": {
        "id": "LwAuEHkiF_Xt"
      },
      "source": [
        "*Hint 1: Multiple backend options are available with Keras. We will be using tensorflow, but the code is thought to be written in such a way that a different backend **could** be used. `tf.keras.backend` has a `.backend()` method that allows you to check what backend is being used.*\n",
        "\n",
        "*Hint 2: You should extend the `tf.keras.callbacks.Callback` class. (Confused about extending classes? [Here is a question on stack overflow](https://stackoverflow.com/questions/15526858/how-to-extend-a-class-in-python) that could provide some context) *\n",
        "\n",
        "*Hint 3: The ExponentialLearningRate callback we will implement will need to take in the $k$ factor during its initialization ([here's a quick overview](https://stackoverflow.com/questions/625083/what-do-init-and-self-do-in-python) on the __init__ contructor method and **self** arguments in classes, with a focus on python.). You will also need to save an empty list as an attribute for both the losses and the learning rates*\n",
        "\n",
        "*Hint 4: Keras model optimizers have an attribute where the learning rate is stored: `model.optimizer.learning_rate`. In order to read the value, you will have to use the keras backend's `.get_value()` method with the model's learning rate as an argument*\n",
        "\n",
        "*Hint 5: the on_train_batch_end method pass the `logs` argument into the function. You can access the loss function by using `logs['loss']`*\n",
        "\n",
        "*Hint 6: In order to set the learning rate to a different value, you will have to depend on the keras backend's `.set_value()` method. This method takes in two arguments: the first is the value that will be set (e.g., the learning rate in the model's optimizer) and the value that it will be set to (e.g., the learning rate multiplied by the k factor).*\n",
        "\n",
        "*Hint 7: Unlike in other documentations we've seen, `backend.get_value()` and `backend.set_value()` don't yet have their own page. However, [here is the link](https://www.tensorflow.org/guide/keras/custom_callback#learning_rate_scheduling) to an example where both methods are used in a learning rate scheduler.*"
      ]
    },
    {
      "cell_type": "code",
      "execution_count": 20,
      "metadata": {
        "id": "fUNJlt80ran6",
        "colab": {
          "base_uri": "https://localhost:8080/",
          "height": 35
        },
        "outputId": "293cd2be-1913-4179-868e-3238d4814d62"
      },
      "outputs": [
        {
          "output_type": "execute_result",
          "data": {
            "text/plain": [
              "'tensorflow'"
            ],
            "application/vnd.google.colaboratory.intrinsic+json": {
              "type": "string"
            }
          },
          "metadata": {},
          "execution_count": 20
        }
      ],
      "source": [
        "# We'll start by making it easier to access the keras backend. See hint #1 for\n",
        "# more details\n",
        "K = tf.keras.backend\n",
        "\n",
        "# Use the .backend() method to determine what backend we're running\n",
        "K.backend()"
      ]
    },
    {
      "cell_type": "code",
      "execution_count": 21,
      "metadata": {
        "id": "Xh9OakL3r6hf"
      },
      "outputs": [],
      "source": [
        "# Remember that you can access the keras.backend using K, which we defined in\n",
        "# the code cell above!\n",
        "\n",
        "class MyCallback(tf.keras.callbacks.Callback): #define the ExponentialLearningRate class\n",
        "    # Start\n",
        "    def __init__(self, factor):\n",
        "        self.factor = factor # set the factor\n",
        "        self.loss_list = [] # initialize the losses list\n",
        "        self.learning_rates_list = [] # initialize the learning rates list\n",
        "\n",
        "    def on_batch_end(self, batch, logs):\n",
        "        # Add the value of the learning rate to the list\n",
        "        self.learning_rates_list.append(K.get_value(model.optimizer.learning_rate))\n",
        "\n",
        "        # Add the value of the loss\n",
        "        self.loss_list.append(logs['loss'])\n",
        "\n",
        "        # Set the value of the\n",
        "        K.set_value(self.model.optimizer.learning_rate, self.model.optimizer.learning_rate * self.factor)"
      ]
    },
    {
      "cell_type": "markdown",
      "metadata": {
        "id": "TOafIE55Z4LK"
      },
      "source": [
        "Now that we've defined out callback, we can go ahead and start thinking about our neural network. For consistency's sake, let's start by clearing the Keras backend and setting our random state."
      ]
    },
    {
      "cell_type": "code",
      "execution_count": 22,
      "metadata": {
        "id": "rC5MYnIFaVdR"
      },
      "outputs": [],
      "source": [
        "# Run this cell\n",
        "K.clear_session()\n",
        "np.random.seed(rnd_seed)\n",
        "tf.random.set_seed(rnd_seed)"
      ]
    },
    {
      "cell_type": "markdown",
      "metadata": {
        "id": "cpoubGhNnVew"
      },
      "source": [
        "Let's make a simple neural network model using Keras. For this, we will rely on a [*Sequential model*](https://keras.io/guides/sequential_model/), since we will want all of the inputs of one layer to be fed into the next layer. We recommend using the architecture described in the diagram below, but feel free to define your own architecture!\n",
        "\n",
        "<center><img width=60% src='https://unils-my.sharepoint.com/:i:/g/personal/tom_beucler_unil_ch/ETl6L_3bHENFt6ZDSgaCpIEBkg2cNPDGowc8u5V8Gxe7XQ?download=1'></center>"
      ]
    },
    {
      "cell_type": "markdown",
      "metadata": {
        "id": "P84Ul1x27QJ3"
      },
      "source": [
        "## Q7) Write a sequential Keras model that will predict the digit class.\n",
        "\n"
      ]
    },
    {
      "cell_type": "markdown",
      "metadata": {
        "id": "-fX-GC0_8IuC"
      },
      "source": [
        "*Hint 1: You can add the layers in the sequential model when initializing the model. It expects the layers in a list. Alternatively, you can add them one by one using the model's `.add()` method. [Check out the documentation here](https://keras.io/guides/sequential_model/#creating-a-sequential-model).*\n",
        "\n",
        "*Hint 2: The input images should be flattened before feeding them into any densely connected layers. [Here is the documentation](https://www.tensorflow.org/api_docs/python/tf/keras/layers/Flatten) for the flatten layer.*\n",
        "\n",
        "*Hint 3: You want to use simple, densely connected layers for this exercise. [Here is the documentation](https://www.tensorflow.org/api_docs/python/tf/keras/layers/Dense) for the dense layer.*\n",
        "\n",
        "*Hint 4: Using a dense layer with the number of units set to the number of classes (e.g., the number of different digits in the MNIST dataset: 10) using a softmax activation unit can be interpreted as a probability of the input belonging to a given class. [Here is the documentation](https://keras.io/api/layers/activations/#softmax-function) for the softmax activation function in Keras*"
      ]
    },
    {
      "cell_type": "code",
      "execution_count": 23,
      "metadata": {
        "id": "TPuhRna87LkT"
      },
      "outputs": [],
      "source": [
        "# Create your model! Feel free to use our outline, or make your own from scratch\n",
        "from tensorflow import keras\n",
        "model = keras.models.Sequential()\n",
        "model.add(keras.layers.Flatten(input_shape=[28, 28]))\n",
        "model.add(keras.layers.Dense(300, activation=\"relu\"))\n",
        "model.add(keras.layers.Dense(100, activation=\"relu\"))\n",
        "model.add(keras.layers.Dense(10, activation=\"softmax\"))"
      ]
    },
    {
      "cell_type": "markdown",
      "metadata": {
        "id": "3BAK1EINKHaN"
      },
      "source": [
        "Now that we have a model defined, we need to run its `.compile()' method, in which we will give the model the following hyper-parameters:\n",
        "> 1) Loss function will be set to sparse categorical cross entropy <br> 2) The optimizer will be set to Stochastic Gradient Descent with a learning rate of 1e-3 <br> 3) The model metrics will include the accuracy score"
      ]
    },
    {
      "cell_type": "markdown",
      "metadata": {
        "id": "h7Dkr99kKvNL"
      },
      "source": [
        "## Q8) Compile the model with the given hyperparameters (i.e., loss function, optimizer, and metrics) and instantiate the callback we defined previously using a $k$ factor of 1.005 (i.e., a 0.5% increase in learning rate per batch)\n",
        "\n"
      ]
    },
    {
      "cell_type": "markdown",
      "metadata": {
        "id": "2aNgAFTsLEjd"
      },
      "source": [
        "*Hint 1: [Here is the documentation](https://www.tensorflow.org/api_docs/python/tf/keras/metrics/sparse_categorical_crossentropy) for the sparse categorical cross entropy loss function in keras. You can simply reference the function using `loss='sparse_categorical_crossentropy'` when compiling.*\n",
        "\n",
        "*Hint 2: [Here is the documentation](https://www.tensorflow.org/api_docs/python/tf/keras/optimizers/SGD) for the Stochastic Gradient Descent optimizer in keras*\n",
        "\n",
        "*Hint 3: [Here is the documentation](https://www.tensorflow.org/api_docs/python/tf/keras/metrics/Accuracy) for the accuracy score implementation in keras. Like with the sparse_categorical_cross_entropy loss, you can reference the accuracy score in the metrics list, e.g. by setting `metrics=['accuracy']` when compiling.*\n"
      ]
    },
    {
      "cell_type": "code",
      "execution_count": 24,
      "metadata": {
        "id": "e03v7LLuMfSP"
      },
      "outputs": [],
      "source": [
        "model.compile(loss=\"sparse_categorical_crossentropy\", optimizer=\"sgd\", metrics=[\"accuracy\"])"
      ]
    },
    {
      "cell_type": "code",
      "execution_count": 25,
      "metadata": {
        "id": "PRYxo1QANhA1"
      },
      "outputs": [],
      "source": [
        "exponential_lr_callback = MyCallback(factor=1.005)"
      ]
    },
    {
      "cell_type": "markdown",
      "metadata": {
        "id": "lNIgkpyeM92K"
      },
      "source": [
        "Let's go ahead and train the compiled model for a single epoch.\n"
      ]
    },
    {
      "cell_type": "markdown",
      "metadata": {
        "id": "TiyNQuouRMwQ"
      },
      "source": [
        "## Q9) Fit the model for a single epoch, using the exponential learning rate callback we defined in the previous code cell. Then, plot the Loss vs Learning rate.\n",
        "\n",
        "*Hint 1: Just like in scikit-learn, the keras model includes a `.fit()` method to train the algorithm! [Here is the documentation](https://www.tensorflow.org/api_docs/python/tf/keras/Model#fit).*\n",
        "\n",
        "*Hint 2: After training, you can access the recorded losses and corresponding learning rates using the attributes we defined when we defined the class in Q5!*"
      ]
    },
    {
      "cell_type": "code",
      "source": [
        "print(np.any(np.isnan(X_train)))\n",
        "print(np.any(np.isnan(y_train)))"
      ],
      "metadata": {
        "id": "ax2DHkn01hcz",
        "outputId": "80329d52-ae2c-4d84-a6b9-bbeaf01ac868",
        "colab": {
          "base_uri": "https://localhost:8080/"
        }
      },
      "execution_count": 32,
      "outputs": [
        {
          "output_type": "stream",
          "name": "stdout",
          "text": [
            "False\n",
            "False\n"
          ]
        }
      ]
    },
    {
      "cell_type": "code",
      "execution_count": 31,
      "metadata": {
        "id": "OLjEwl0nRbp4",
        "colab": {
          "base_uri": "https://localhost:8080/"
        },
        "outputId": "70c9a0d5-2e1c-42ab-b6fa-17d97fff0e0a"
      },
      "outputs": [
        {
          "output_type": "stream",
          "name": "stdout",
          "text": [
            "Epoch 1/30\n",
            "1563/1563 [==============================] - 10s 6ms/step - loss: nan - accuracy: 0.0984 - val_loss: nan - val_accuracy: 0.1001\n",
            "Epoch 2/30\n",
            "1563/1563 [==============================] - 10s 6ms/step - loss: nan - accuracy: 0.0984 - val_loss: nan - val_accuracy: 0.1001\n",
            "Epoch 3/30\n",
            "1563/1563 [==============================] - 9s 6ms/step - loss: nan - accuracy: 0.0984 - val_loss: nan - val_accuracy: 0.1001\n",
            "Epoch 4/30\n",
            "1563/1563 [==============================] - 9s 6ms/step - loss: nan - accuracy: 0.0984 - val_loss: nan - val_accuracy: 0.1001\n",
            "Epoch 5/30\n",
            "1563/1563 [==============================] - 10s 6ms/step - loss: nan - accuracy: 0.0984 - val_loss: nan - val_accuracy: 0.1001\n",
            "Epoch 6/30\n",
            "1563/1563 [==============================] - 10s 6ms/step - loss: nan - accuracy: 0.0984 - val_loss: nan - val_accuracy: 0.1001\n",
            "Epoch 7/30\n",
            "1563/1563 [==============================] - 10s 6ms/step - loss: nan - accuracy: 0.0984 - val_loss: nan - val_accuracy: 0.1001\n",
            "Epoch 8/30\n",
            "1563/1563 [==============================] - 9s 6ms/step - loss: nan - accuracy: 0.0984 - val_loss: nan - val_accuracy: 0.1001\n",
            "Epoch 9/30\n",
            "1563/1563 [==============================] - 10s 6ms/step - loss: nan - accuracy: 0.0984 - val_loss: nan - val_accuracy: 0.1001\n",
            "Epoch 10/30\n",
            "1563/1563 [==============================] - 10s 7ms/step - loss: nan - accuracy: 0.0984 - val_loss: nan - val_accuracy: 0.1001\n",
            "Epoch 11/30\n",
            "1563/1563 [==============================] - 9s 6ms/step - loss: nan - accuracy: 0.0984 - val_loss: nan - val_accuracy: 0.1001\n",
            "Epoch 12/30\n",
            "1563/1563 [==============================] - 10s 6ms/step - loss: nan - accuracy: 0.0984 - val_loss: nan - val_accuracy: 0.1001\n",
            "Epoch 13/30\n",
            "1563/1563 [==============================] - 10s 6ms/step - loss: nan - accuracy: 0.0984 - val_loss: nan - val_accuracy: 0.1001\n",
            "Epoch 14/30\n",
            "1563/1563 [==============================] - 10s 6ms/step - loss: nan - accuracy: 0.0984 - val_loss: nan - val_accuracy: 0.1001\n",
            "Epoch 15/30\n",
            "1563/1563 [==============================] - 10s 6ms/step - loss: nan - accuracy: 0.0984 - val_loss: nan - val_accuracy: 0.1001\n",
            "Epoch 16/30\n",
            "1563/1563 [==============================] - 8s 5ms/step - loss: nan - accuracy: 0.0984 - val_loss: nan - val_accuracy: 0.1001\n",
            "Epoch 17/30\n",
            "1563/1563 [==============================] - 10s 6ms/step - loss: nan - accuracy: 0.0984 - val_loss: nan - val_accuracy: 0.1001\n",
            "Epoch 18/30\n",
            "1563/1563 [==============================] - 9s 6ms/step - loss: nan - accuracy: 0.0984 - val_loss: nan - val_accuracy: 0.1001\n",
            "Epoch 19/30\n",
            "1563/1563 [==============================] - 9s 6ms/step - loss: nan - accuracy: 0.0984 - val_loss: nan - val_accuracy: 0.1001\n",
            "Epoch 20/30\n",
            "1563/1563 [==============================] - 9s 6ms/step - loss: nan - accuracy: 0.0984 - val_loss: nan - val_accuracy: 0.1001\n",
            "Epoch 21/30\n",
            "1563/1563 [==============================] - 10s 6ms/step - loss: nan - accuracy: 0.0984 - val_loss: nan - val_accuracy: 0.1001\n",
            "Epoch 22/30\n",
            "1563/1563 [==============================] - 10s 6ms/step - loss: nan - accuracy: 0.0984 - val_loss: nan - val_accuracy: 0.1001\n",
            "Epoch 23/30\n",
            "1563/1563 [==============================] - 9s 6ms/step - loss: nan - accuracy: 0.0984 - val_loss: nan - val_accuracy: 0.1001\n",
            "Epoch 24/30\n",
            "1563/1563 [==============================] - 9s 6ms/step - loss: nan - accuracy: 0.0984 - val_loss: nan - val_accuracy: 0.1001\n",
            "Epoch 25/30\n",
            "1563/1563 [==============================] - 10s 6ms/step - loss: nan - accuracy: 0.0984 - val_loss: nan - val_accuracy: 0.1001\n",
            "Epoch 26/30\n",
            "1563/1563 [==============================] - 10s 6ms/step - loss: nan - accuracy: 0.0984 - val_loss: nan - val_accuracy: 0.1001\n",
            "Epoch 27/30\n",
            "1563/1563 [==============================] - 9s 5ms/step - loss: nan - accuracy: 0.0984 - val_loss: nan - val_accuracy: 0.1001\n",
            "Epoch 28/30\n",
            "1563/1563 [==============================] - 9s 6ms/step - loss: nan - accuracy: 0.0984 - val_loss: nan - val_accuracy: 0.1001\n",
            "Epoch 29/30\n",
            "1563/1563 [==============================] - 9s 6ms/step - loss: nan - accuracy: 0.0984 - val_loss: nan - val_accuracy: 0.1001\n",
            "Epoch 30/30\n",
            "1563/1563 [==============================] - 9s 5ms/step - loss: nan - accuracy: 0.0984 - val_loss: nan - val_accuracy: 0.1001\n"
          ]
        }
      ],
      "source": [
        "history = model.fit(X_train, # set the training inputs\n",
        "                    y_train, # set the training labels\n",
        "                    epochs=30, # set the number of epochs\n",
        "                    validation_data=(X_valid, y_valid), # set validation input/labels\n",
        "                    callbacks=[exponential_lr_callback]) # Set the callback"
      ]
    },
    {
      "cell_type": "code",
      "execution_count": null,
      "metadata": {
        "id": "QrQb1q3DSt4X"
      },
      "outputs": [],
      "source": [
        "# Plotting\n",
        "fig, ax = plt.subplots()\n",
        "\n",
        "ax.plot(___.___, # learning rates\n",
        "        ___.___) # losses\n",
        "\n",
        "# Define a tuple with (min_learning_rate, max_learn_rate)\n",
        "x_limits = ( min(___.___), max(___.___) )\n",
        "\n",
        "# Set the xscale to logarithmic\n",
        "ax.set_xscale('log')\n",
        "\n",
        "# Draw a horizontal line at the minimum loss value\n",
        "ax.hlines(min(____.___), #Find the minimum loss value to draw a horizontal line\n",
        "          *x_limits, # the star unpacks x_limits to the expected num of args\n",
        "          'g')\n",
        "\n",
        "# Set the limits for drawing the curves\n",
        "ax.set_xlim(x_limits)\n",
        "ax.set_ylim(0, ____) # use the initial loss as the top y boundary\n",
        "\n",
        "# Display gridlines to see better\n",
        "ax.grid(which='both')\n",
        "\n",
        "ax.set_xlabel(\"Learning rate\")\n",
        "ax.set_ylabel(\"Loss\")"
      ]
    },
    {
      "cell_type": "markdown",
      "metadata": {
        "id": "fFppBDPtXSdg"
      },
      "source": [
        "If you used the architecture we defined above with the learning rate we defined above, you should produce a graph that looks like this:\n",
        "<center> <img src='https://unils-my.sharepoint.com/:i:/g/personal/tom_beucler_unil_ch/EUhU2fuy3K1Nm5iuia8ocF8BB2-jU_pAf6h5TA8MaIqrfw?download=1'> </center>\n",
        "\n",
        "In this graph, you can see that the loss reaches a minimum at around 6e-1 and then begins to shoot up violently. Let's avoid that by using half that value (e.g., 3e-1).\n",
        "\n",
        "If you have a different curve, try setting your learning rate to half of the learning rate with the minimum loss! 😃\n"
      ]
    },
    {
      "cell_type": "markdown",
      "metadata": {
        "id": "gzSXelTGz5G8"
      },
      "source": [
        "Now that we have an idea of what the learning rate should be, let's go ahead and start from scratch once more."
      ]
    },
    {
      "cell_type": "code",
      "execution_count": null,
      "metadata": {
        "id": "XwJi4Xi6kVZY"
      },
      "outputs": [],
      "source": [
        "# Run this cell - let's go back to a clean slate!\n",
        "K.clear_session()\n",
        "np.random.seed(rnd_seed)\n",
        "tf.random.set_seed(rnd_seed)"
      ]
    },
    {
      "cell_type": "markdown",
      "metadata": {
        "id": "hlt-kl220Bhu"
      },
      "source": [
        "We also want to instantiate the model again - the weights in our current model are quite bad and if we use it as is it won't be able to learn since the weights are too far away from the solution. There are other ways to do this, but since our model is quite simple it's worth it to just redefine and recompile it."
      ]
    },
    {
      "cell_type": "markdown",
      "metadata": {
        "id": "9EBUr0WPatQn"
      },
      "source": [
        "## Q10) Redefine and re-compile the model with the learning rate you found in Q9."
      ]
    },
    {
      "cell_type": "code",
      "execution_count": null,
      "metadata": {
        "id": "naT8MpoklIY0"
      },
      "outputs": [],
      "source": [
        "# redefine the model\n",
        "model = tf.keras.___.___([ # call the sequential model class\n",
        "    tf.keras.layers.___(), # flatten the data\n",
        "    tf.keras.layers.___(), # densely connected ReLU layer, 300 units\n",
        "    tf.keras.layers.___(), # densely connected ReLU layer, 100 units\n",
        "    tf.keras.layers.___())] # densely connected Softmax layer, 10 units\n"
      ]
    },
    {
      "cell_type": "code",
      "execution_count": null,
      "metadata": {
        "id": "ih9ddZA2bJEE"
      },
      "outputs": [],
      "source": [
        "____.compile(___=___, # Set the loss function\n",
        "              ___=___.____.___(___=___), # Set the optimizer and learning rate\n",
        "              ___=[___]) # Set the metrics"
      ]
    },
    {
      "cell_type": "markdown",
      "metadata": {
        "id": "jLtjB_1gbgcI"
      },
      "source": [
        "We're now going to set up a saving directory in case you want to try running the model with different learning rates or other hyper-parameters!"
      ]
    },
    {
      "cell_type": "code",
      "execution_count": null,
      "metadata": {
        "id": "Hxqyiz5SbflW"
      },
      "outputs": [],
      "source": [
        "#Change this number and rerun this cell whenever you want to change runs\n",
        "run_index = 1\n",
        "\n",
        "run_logdir = os.path.join(os.curdir, \"my_mnist_logs\", \"run_{:03d}\".format(run_index))\n",
        "\n",
        "print(run_logdir)"
      ]
    },
    {
      "cell_type": "markdown",
      "metadata": {
        "id": "n232QFo3bulH"
      },
      "source": [
        "We'll also set up some additional callbacks.\n",
        "> 1) An early stopping callback ([documentation here](https://www.tensorflow.org/api_docs/python/tf/keras/callbacks/EarlyStopping)). This callback will stop the training if no improvement is found after a `patience` number of epochs. <br> 2) A model checkpoint callback ([documentation here](https://www.tensorflow.org/api_docs/python/tf/keras/callbacks/ModelCheckpoint)). This callback will ensure that only the best version of the model is kept (in case your model's performance reaches a maximum and then deteriorates after a certain number of epochs) <br> 3) A tensorboard callback ([documentation here](https://www.tensorflow.org/api_docs/python/tf/keras/callbacks/TensorBoard)). This callback will enable using Tensorboard to visualize learning curves, metrics, etc. Handy 🙌!"
      ]
    },
    {
      "cell_type": "code",
      "execution_count": null,
      "metadata": {
        "id": "9m92fjw3bzhp"
      },
      "outputs": [],
      "source": [
        "early_stopping_cb = tf.keras.callbacks.EarlyStopping(patience=20)\n",
        "checkpoint_cb = tf.keras.callbacks.ModelCheckpoint(\"my_mnist_model.h5\", save_best_only=True)\n",
        "tensorboard_cb = tf.keras.callbacks.TensorBoard(run_logdir)"
      ]
    },
    {
      "cell_type": "markdown",
      "metadata": {
        "id": "gohJkkWOd0Qx"
      },
      "source": [
        "Let's go ahead and fit the model again!"
      ]
    },
    {
      "cell_type": "markdown",
      "metadata": {
        "id": "hHX8OjI7fJfN"
      },
      "source": [
        "## Q11) Fit the updated model for 100 epochs"
      ]
    },
    {
      "cell_type": "code",
      "execution_count": null,
      "metadata": {
        "id": "YeN1mGqdb2EK"
      },
      "outputs": [],
      "source": [
        "history = model.fit(____, # inputs\n",
        "                    ____, # labels\n",
        "                    ____=___, #epochs\n",
        "                    validation_data=(___, ___),\n",
        "                    callbacks=[checkpoint_cb, early_stopping_cb, tensorboard_cb])"
      ]
    },
    {
      "cell_type": "markdown",
      "metadata": {
        "id": "LvrFsiYJeQ3u"
      },
      "source": [
        "Finally, we need to evaluate the performance of our model. Go ahead and try it out on the test set!\n",
        "\n",
        "## Q12) Evaluate the model on the test set.\n",
        "\n",
        "*Hint 1: Keras models include an `evaluate()` method that takes in the test set inputs/labels. [Here is the documentation](https://www.tensorflow.org/api_docs/python/tf/keras/Model#evaluate).*"
      ]
    },
    {
      "cell_type": "code",
      "execution_count": null,
      "metadata": {
        "id": "-0FIYQzleRWt"
      },
      "outputs": [],
      "source": [
        "# Rollback to best model, which was saved by the callback\n",
        "model = tf.keras.models.load_model(\"my_mnist_model.h5\") # rollback to best model\n",
        "\n",
        "# Evaluate the model\n",
        "model.____(____, ____)"
      ]
    },
    {
      "cell_type": "markdown",
      "metadata": {
        "id": "5y0JJitTgYM9"
      },
      "source": [
        "Finally, we can use tensorboard to check out our model's performance! Note that the tensorboard extension was loaded in the notebook setup cell."
      ]
    },
    {
      "cell_type": "code",
      "execution_count": null,
      "metadata": {
        "id": "NAnYPOQrgd6m"
      },
      "outputs": [],
      "source": [
        "%tensorboard --logdir=./my_mnist_logs --port=6006"
      ]
    },
    {
      "cell_type": "markdown",
      "metadata": {
        "id": "HE_XjLrccEtn"
      },
      "source": [
        "An enthusiastic (albeit somewhat sick 😷) TA noted that during the development of the notebook the accuracy reached on the test dataset was 97.84%. Additionally, the tensorboard curves from the test run is given below:\n",
        "\n",
        "\n",
        "![picture](https://unils-my.sharepoint.com/:i:/g/personal/tom_beucler_unil_ch/EXPT4jVOfNZJpkSqD4wNktMByxa9LmH-uq0EU6PIaul27Q?download=1)"
      ]
    }
  ],
  "metadata": {
    "colab": {
      "collapsed_sections": [
        "_ViiopXOfS3G",
        "l-VS2NTVv_kW"
      ],
      "name": "S4_1_NNs_with_Keras.ipynb",
      "provenance": [],
      "toc_visible": true,
      "include_colab_link": true
    },
    "kernelspec": {
      "display_name": "Python 3 (ipykernel)",
      "language": "python",
      "name": "python3"
    },
    "language_info": {
      "codemirror_mode": {
        "name": "ipython",
        "version": 3
      },
      "file_extension": ".py",
      "mimetype": "text/x-python",
      "name": "python",
      "nbconvert_exporter": "python",
      "pygments_lexer": "ipython3",
      "version": "3.9.7"
    }
  },
  "nbformat": 4,
  "nbformat_minor": 0
}